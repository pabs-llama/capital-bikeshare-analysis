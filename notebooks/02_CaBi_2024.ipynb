{
 "cells": [
  {
   "cell_type": "markdown",
   "metadata": {},
   "source": [
    "# CaBi datasets from 2024\n",
    "\n",
    "gets the datasets for the year 2024 and merges them into one = cabi_2024.csv"
   ]
  },
  {
   "cell_type": "code",
   "execution_count": null,
   "metadata": {},
   "outputs": [],
   "source": [
    "# 📦 Standard Library\n",
    "import sys\n",
    "from pathlib import Path\n",
    "import json\n",
    "\n",
    "# 📊 Data Analysis & Visualization\n",
    "import pandas as pd\n",
    "import numpy as np\n",
    "import matplotlib.pyplot as plt\n",
    "import seaborn as sns\n",
    "\n",
    "# 🌍 Geospatial Libraries\n",
    "from shapely.geometry import Point, shape\n",
    "import geopandas as gpd\n",
    "from shapely.geometry import Point, shape\n",
    "\n",
    "\n",
    "# 🛠️ Project-Specific Modules\n",
    "sys.path.append(str(Path().resolve().parent / \"src\"))\n",
    "from paths import RAW_DATA_DIR\n",
    "from helpers_folium import  load_bikeshare_data, load_geojson_as_gdf"
   ]
  },
  {
   "cell_type": "markdown",
   "metadata": {},
   "source": [
    "## Load Data"
   ]
  },
  {
   "cell_type": "code",
   "execution_count": null,
   "metadata": {},
   "outputs": [],
   "source": [
    "# load Capital Bikeshare data for 2024\n",
    "cabi_01_24 = load_bikeshare_data(\"202401-capitalbikeshare-tripdata.csv\", data_types=data_types)\n",
    "cabi_02_24 = load_bikeshare_data(\"202402-capitalbikeshare-tripdata.csv\", data_types=data_types)\n",
    "cabi_03_24 = load_bikeshare_data(\"202403-capitalbikeshare-tripdata.csv\", data_types=data_types)\n",
    "cabi_04_24 = load_bikeshare_data(\"202404-capitalbikeshare-tripdata.csv\", data_types=data_types)\n",
    "cabi_05_24 = load_bikeshare_data(\"202405-capitalbikeshare-tripdata.csv\", data_types=data_types)\n",
    "cabi_06_24 = load_bikeshare_data(\"202406-capitalbikeshare-tripdata.csv\", data_types=data_types)\n",
    "cabi_07_24 = load_bikeshare_data(\"202407-capitalbikeshare-tripdata.csv\", data_types=data_types) \n",
    "cabi_08_24 = load_bikeshare_data(\"202408-capitalbikeshare-tripdata.csv\", data_types=data_types)\n",
    "cabi_09_24 = load_bikeshare_data(\"202409-capitalbikeshare-tripdata.csv\", data_types=data_types)\n",
    "cabi_10_24 = load_bikeshare_data(\"202410-capitalbikeshare-tripdata.csv\", data_types=data_types)\n",
    "cabi_11_24 = load_bikeshare_data(\"202411-capitalbikeshare-tripdata.csv\", data_types=data_types)\n",
    "cabi_12_24 = load_bikeshare_data(\"202412-capitalbikeshare-tripdata.csv\", data_types=data_types)"
   ]
  },
  {
   "cell_type": "code",
   "execution_count": null,
   "metadata": {},
   "outputs": [],
   "source": [
    "# concatenate all monthly dataframes into one dataframe\n",
    "cabi_2024 = pd.concat([cabi_01_24, cabi_02_24, cabi_03_24, cabi_04_24, cabi_05_24, cabi_06_24, cabi_07_24, cabi_08_24, cabi_09_24, cabi_10_24, cabi_11_24, cabi_12_24], ignore_index=True,axis=0)"
   ]
  },
  {
   "cell_type": "code",
   "execution_count": null,
   "metadata": {},
   "outputs": [],
   "source": [
    "# save to csv file\n",
    "cabi_2024.to_csv(\"cabi_2024.csv\")"
   ]
  },
  {
   "cell_type": "code",
   "execution_count": null,
   "metadata": {},
   "outputs": [],
   "source": [
    "# load Maryland GeoJSON file\n",
    "\n",
    "maryland_gdf = load_geojson_as_gdf(\"Maryland_Physical_Boundaries_-_County_Boundaries_(Detailed).geojson\")"
   ]
  },
  {
   "cell_type": "code",
   "execution_count": 12,
   "metadata": {},
   "outputs": [],
   "source": [
    "# # Create a GeoDataFrame for the start stations\n",
    "geometry = [Point(xy) for xy in zip(cabi_2024['start_lng'], cabi_2024['start_lat'])]\n",
    "bikes_gdf = gpd.GeoDataFrame(cabi_2024, geometry=geometry, crs=\"EPSG:4326\")\n",
    "\n",
    "# # Perform spatial join with the maryland gdf\n",
    "bikes_maryland_join = gpd.sjoin(bikes_gdf, maryland_gdf, how=\"left\", predicate=\"within\")"
   ]
  },
  {
   "cell_type": "code",
   "execution_count": 13,
   "metadata": {},
   "outputs": [],
   "source": [
    "# drop na to keep only rides in maryland \n",
    "rides_maryland = bikes_maryland_join.dropna(subset=\"COUNTY\")\n",
    "# drop columns that are not being used\n",
    "rides_maryland = rides_maryland.drop(columns= ['index_right','OBJECTID','DISTRICT', 'COUNTY_FIP', 'COUNTYNUM','CREATION_D', 'LAST_UPDAT'])"
   ]
  },
  {
   "cell_type": "code",
   "execution_count": 14,
   "metadata": {},
   "outputs": [],
   "source": [
    "rides_maryland['year'] = rides_maryland['started_at'].dt.year\n",
    "rides_maryland['dow'] = rides_maryland['started_at'].dt.dayofweek\n",
    "rides_maryland[\"weekday\"] = rides_maryland[\"started_at\"].dt.day_name()"
   ]
  },
  {
   "cell_type": "code",
   "execution_count": 15,
   "metadata": {},
   "outputs": [
    {
     "data": {
      "text/html": [
       "<div>\n",
       "<style scoped>\n",
       "    .dataframe tbody tr th:only-of-type {\n",
       "        vertical-align: middle;\n",
       "    }\n",
       "\n",
       "    .dataframe tbody tr th {\n",
       "        vertical-align: top;\n",
       "    }\n",
       "\n",
       "    .dataframe thead th {\n",
       "        text-align: right;\n",
       "    }\n",
       "</style>\n",
       "<table border=\"1\" class=\"dataframe\">\n",
       "  <thead>\n",
       "    <tr style=\"text-align: right;\">\n",
       "      <th></th>\n",
       "      <th>COUNTY</th>\n",
       "      <th>ride_count</th>\n",
       "    </tr>\n",
       "  </thead>\n",
       "  <tbody>\n",
       "    <tr>\n",
       "      <th>0</th>\n",
       "      <td>Montgomery</td>\n",
       "      <td>100139</td>\n",
       "    </tr>\n",
       "    <tr>\n",
       "      <th>1</th>\n",
       "      <td>Prince George's</td>\n",
       "      <td>78258</td>\n",
       "    </tr>\n",
       "  </tbody>\n",
       "</table>\n",
       "</div>"
      ],
      "text/plain": [
       "            COUNTY  ride_count\n",
       "0       Montgomery      100139\n",
       "1  Prince George's       78258"
      ]
     },
     "execution_count": 15,
     "metadata": {},
     "output_type": "execute_result"
    }
   ],
   "source": [
    "# # Count rides per county\n",
    "rides_per_county = rides_maryland.groupby(\"COUNTY\").size().reset_index(name=\"ride_count\")  \n",
    "rides_per_county"
   ]
  },
  {
   "cell_type": "markdown",
   "metadata": {},
   "source": [
    "#TODO - compare the increase of rides between 2023 and 2024 in dc and maryland"
   ]
  },
  {
   "cell_type": "code",
   "execution_count": 16,
   "metadata": {},
   "outputs": [],
   "source": [
    "# # Convert 'weekday' to a categorical type with the correct order\n",
    "weekday_order = [\"Monday\", \"Tuesday\", \"Wednesday\", \"Thursday\", \"Friday\", \"Saturday\", \"Sunday\"]\n",
    "rides_maryland[\"weekday\"] = pd.Categorical(rides_maryland[\"weekday\"], categories=weekday_order, ordered=True)\n"
   ]
  },
  {
   "cell_type": "code",
   "execution_count": 17,
   "metadata": {},
   "outputs": [],
   "source": [
    "rides_maryland.to_csv(\"cabi_maryland_2024.csv\", index=False)"
   ]
  },
  {
   "cell_type": "markdown",
   "metadata": {},
   "source": []
  }
 ],
 "metadata": {
  "kernelspec": {
   "display_name": "codeacademy",
   "language": "python",
   "name": "python3"
  },
  "language_info": {
   "codemirror_mode": {
    "name": "ipython",
    "version": 3
   },
   "file_extension": ".py",
   "mimetype": "text/x-python",
   "name": "python",
   "nbconvert_exporter": "python",
   "pygments_lexer": "ipython3",
   "version": "3.12.7"
  }
 },
 "nbformat": 4,
 "nbformat_minor": 2
}
